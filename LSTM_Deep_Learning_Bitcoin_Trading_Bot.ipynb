{
  "nbformat": 4,
  "nbformat_minor": 0,
  "metadata": {
    "colab": {
      "name": "LSTM Deep Learning Bitcoin Trading Bot.ipynb",
      "provenance": [],
      "authorship_tag": "ABX9TyN0E+bdgvnyT8obwCkLtOai",
      "include_colab_link": true
    },
    "kernelspec": {
      "name": "python3",
      "display_name": "Python 3"
    },
    "language_info": {
      "name": "python"
    }
  },
  "cells": [
    {
      "cell_type": "markdown",
      "metadata": {
        "id": "view-in-github",
        "colab_type": "text"
      },
      "source": [
        "<a href=\"https://colab.research.google.com/github/cris-her/Crypto/blob/master/LSTM_Deep_Learning_Bitcoin_Trading_Bot.ipynb\" target=\"_parent\"><img src=\"https://colab.research.google.com/assets/colab-badge.svg\" alt=\"Open In Colab\"/></a>"
      ]
    },
    {
      "cell_type": "markdown",
      "metadata": {
        "id": "7rn8HxW1EFhz"
      },
      "source": [
        "LSTM Deep Learning Bitcoin Trading Model"
      ]
    },
    {
      "cell_type": "code",
      "metadata": {
        "id": "8t1fWV2zDMlA"
      },
      "source": [
        "import numpy as np\n",
        "import matplotlib.pyplot as plt\n",
        "import seaborn as sns\n",
        "import pandas as pd\n",
        "import datetime\n",
        "\n",
        "%matplotlib inline\n",
        "plt.style.use('fivethirtyeight')\n",
        "\n",
        "from sklearn.metrics import mean_squared_error\n",
        "\n",
        "from keras.layers.core import Dense, Activation, Dropout\n",
        "from keras.layers.recurrent import LSTM\n",
        "from keras.models import Sequential"
      ],
      "execution_count": null,
      "outputs": []
    },
    {
      "cell_type": "code",
      "metadata": {
        "id": "GM7RGOShQZrV"
      },
      "source": [
        "from datetime import datetime"
      ],
      "execution_count": null,
      "outputs": []
    },
    {
      "cell_type": "code",
      "metadata": {
        "id": "OI4N_GX4QZu6"
      },
      "source": [
        "from binance.client import Client\n",
        "\n",
        "client = Client(api_key, api_secret)"
      ],
      "execution_count": null,
      "outputs": []
    },
    {
      "cell_type": "code",
      "metadata": {
        "id": "b0-L5KsiQZyr"
      },
      "source": [
        "candles = client.get_klines(symbol='BTCUSDT', interval=Client.KLINE_INTERVAL_1MINUTE)"
      ],
      "execution_count": null,
      "outputs": []
    },
    {
      "cell_type": "code",
      "metadata": {
        "id": "WQN7lEZJQZ07"
      },
      "source": [
        "len(candles)"
      ],
      "execution_count": null,
      "outputs": []
    },
    {
      "cell_type": "code",
      "metadata": {
        "id": "toN0EypwQZ5H"
      },
      "source": [
        "candles[499] #time-open-high-low-close-volume-close_time"
      ],
      "execution_count": null,
      "outputs": []
    },
    {
      "cell_type": "code",
      "metadata": {
        "id": "SHVZnlawQZ7R"
      },
      "source": [
        "price = np.array([float(candles[i][4]) for i in range(500)])"
      ],
      "execution_count": null,
      "outputs": []
    },
    {
      "cell_type": "code",
      "metadata": {
        "id": "Sz5YmfxvQZ_i"
      },
      "source": [
        "time = np.array([int(candles[i][0]) for i in range(500)])\n",
        "\n",
        "t = np.array([datetime.fromtimestamp(time[i]/1000).strftime('%H:%M:%S') for i in range(500)])"
      ],
      "execution_count": null,
      "outputs": []
    },
    {
      "cell_type": "code",
      "metadata": {
        "id": "yTZh3_NTQaCG"
      },
      "source": [
        "price.shape"
      ],
      "execution_count": null,
      "outputs": []
    },
    {
      "cell_type": "code",
      "metadata": {
        "id": "EqOLlEOZQaGK"
      },
      "source": [
        "plt.figure(figsize=(8,5))\n",
        "plt.xlabel('Time Step')\n",
        "plt.ylabel('Bitcoin Price $')\n",
        "plt.plot(price)"
      ],
      "execution_count": null,
      "outputs": []
    },
    {
      "cell_type": "code",
      "metadata": {
        "id": "n3Wb1O-aQaIe"
      },
      "source": [
        "timeframe = pd.DataFrame({'Time':t,'Price $BTC':price})\n",
        "\n",
        "timeframe #minute by minute price"
      ],
      "execution_count": null,
      "outputs": []
    },
    {
      "cell_type": "code",
      "metadata": {
        "id": "Pc9s5CXGQaMN"
      },
      "source": [
        "price = price.reshape(500,1)"
      ],
      "execution_count": null,
      "outputs": []
    },
    {
      "cell_type": "code",
      "metadata": {
        "id": "lHMprAMEQaOn"
      },
      "source": [
        "from sklearn.preprocessing import StandardScaler\n",
        "\n",
        "scaler = StandardScaler()"
      ],
      "execution_count": null,
      "outputs": []
    },
    {
      "cell_type": "code",
      "metadata": {
        "id": "iGO4AtMwUWn5"
      },
      "source": [
        "scaler.fit(price[:374])"
      ],
      "execution_count": null,
      "outputs": []
    },
    {
      "cell_type": "code",
      "metadata": {
        "id": "JmEmgePRUWre"
      },
      "source": [
        "price = scaler.transform(price)"
      ],
      "execution_count": null,
      "outputs": []
    },
    {
      "cell_type": "code",
      "metadata": {
        "id": "ytjnBhfdUWvU"
      },
      "source": [
        "df = pd.DataFrame(price.reshape(100,5),columns=['First','Second','Third','Fourth','Target'])"
      ],
      "execution_count": null,
      "outputs": []
    },
    {
      "cell_type": "code",
      "metadata": {
        "id": "9yquCUdCUWx0"
      },
      "source": [
        "df.head()"
      ],
      "execution_count": null,
      "outputs": []
    },
    {
      "cell_type": "code",
      "metadata": {
        "id": "d5nqv1wUUW1d"
      },
      "source": [
        "#75% train, 25% test\n",
        "\n",
        "x_train = df.iloc[:74,:4]\n",
        "y_train = df.iloc[:74,-1]\n",
        "\n",
        "x_test = df.iloc[75:99,:4]\n",
        "y_test = df.iloc[75:99,-1]"
      ],
      "execution_count": null,
      "outputs": []
    },
    {
      "cell_type": "code",
      "metadata": {
        "id": "nzrkjIitUW5a"
      },
      "source": [
        "x_train = np.array(x_train)\n",
        "y_train = np.array(y_train)\n",
        "x_test = np.array(x_test)\n",
        "y_test = np.array(y_test)"
      ],
      "execution_count": null,
      "outputs": []
    },
    {
      "cell_type": "code",
      "metadata": {
        "id": "l9fKXXzDUW8S"
      },
      "source": [
        "x_train.shape, x_test.shape"
      ],
      "execution_count": null,
      "outputs": []
    },
    {
      "cell_type": "code",
      "metadata": {
        "id": "KCnUlm6oUXMU"
      },
      "source": [
        "model = Sequential()\n",
        "\n",
        "model.add(LSTM(20, return_sequence=True, input_shape=(4,1)))\n",
        "model.add(LSTM(40, return_sequence=False))\n",
        "model.add(Dense(1, activation='linear'))\n",
        "model.compile(loss='mse', optimizer='rmsprop')\n",
        "\n",
        "model.summary()"
      ],
      "execution_count": null,
      "outputs": []
    },
    {
      "cell_type": "code",
      "metadata": {
        "id": "rfS0cjVCUXOg"
      },
      "source": [
        "model.fit(x_train, y_train, batch_size=5, epochs=100)"
      ],
      "execution_count": null,
      "outputs": []
    },
    {
      "cell_type": "code",
      "metadata": {
        "id": "McMuUd9NUXSG"
      },
      "source": [
        "y_pred = model.predict(x_test)"
      ],
      "execution_count": null,
      "outputs": []
    },
    {
      "cell_type": "code",
      "metadata": {
        "id": "Ft1LJnKCQaSp"
      },
      "source": [
        "plt.figure(figure=[8,5])\n",
        "plt.title('Model Fit')\n",
        "plt.xlabel('Time Step')\n",
        "plt.ylabel('Normalized Price')\n",
        "plt.plot(y_test, label='True')\n",
        "plt.plot(y_pred, label='Prediction')\n",
        "plt.legend()"
      ],
      "execution_count": null,
      "outputs": []
    },
    {
      "cell_type": "code",
      "metadata": {
        "id": "eMhFWqSTWxgC"
      },
      "source": [
        "plt.figure(figure=[8,5])\n",
        "plt.title('Model Fit')\n",
        "plt.xlabel('Time Step')\n",
        "plt.ylabel('Price')\n",
        "plt.plot(scaler.inverse_transform(y_test), label='True')\n",
        "plt.plot(scaler.inverse_transform(y_pred), label='Prediction')\n",
        "plt.legend()"
      ],
      "execution_count": null,
      "outputs": []
    },
    {
      "cell_type": "code",
      "metadata": {
        "id": "DS8j9JZrWxkM"
      },
      "source": [
        "testScore = np.sqrt(mean_squared_error(scaler.inverse_transform(y_test),scaler.inverse_transform(y_pred)))\n",
        "print('Test Score: %.2f RMSE' % (testScore))"
      ],
      "execution_count": null,
      "outputs": []
    },
    {
      "cell_type": "code",
      "metadata": {
        "id": "xyOnF2ZKWxm9"
      },
      "source": [
        "from sklearn.metrics import r2_score"
      ],
      "execution_count": null,
      "outputs": []
    },
    {
      "cell_type": "code",
      "metadata": {
        "id": "wy4JNOTcYUWO"
      },
      "source": [
        "print('RSquared :', '{:.2%}'.format(r2_score(y_test,y_pred))"
      ],
      "execution_count": null,
      "outputs": []
    },
    {
      "cell_type": "code",
      "metadata": {
        "id": "BAkngzgcYUYc"
      },
      "source": [
        "model.save('Bitcoin_model.h5')"
      ],
      "execution_count": null,
      "outputs": []
    },
    {
      "cell_type": "code",
      "metadata": {
        "id": "qehCL9ySYUcp"
      },
      "source": [
        "#from keras.models import load_model\n",
        "\n",
        "# load model\n",
        "#model = load_model('Bitcoin_model.h5')\n",
        "\n",
        "# summarize model.\n",
        "#model.summary()"
      ],
      "execution_count": null,
      "outputs": []
    },
    {
      "cell_type": "markdown",
      "metadata": {
        "id": "SzmNzEUXZFlc"
      },
      "source": [
        "Second Model"
      ]
    },
    {
      "cell_type": "code",
      "metadata": {
        "id": "vgRPl2zNYUee"
      },
      "source": [
        "from sklearn.svm import SVR"
      ],
      "execution_count": null,
      "outputs": []
    },
    {
      "cell_type": "code",
      "metadata": {
        "id": "Inm2ylcOYUhy"
      },
      "source": [
        "#75% train, 25% test\n",
        "\n",
        "trainX = df.iloc[:74,:4]\n",
        "trainY = df.iloc[:74,-1]\n",
        "\n",
        "testX = df.iloc[75:99,:4]\n",
        "testY = df.iloc[75:99,-1]"
      ],
      "execution_count": null,
      "outputs": []
    },
    {
      "cell_type": "code",
      "metadata": {
        "id": "jCGHrkyEYUkG"
      },
      "source": [
        "svr_linear = SVR(kernel='linear', C=1e3, gamma=0.1)\n",
        "svr_linear.fit(trainX,trainY)"
      ],
      "execution_count": null,
      "outputs": []
    },
    {
      "cell_type": "code",
      "metadata": {
        "id": "Jf7fUt8xYUn0"
      },
      "source": [
        "predY = svr_linear.predict(testX)"
      ],
      "execution_count": null,
      "outputs": []
    },
    {
      "cell_type": "code",
      "metadata": {
        "id": "5K4ZvawNYUpI"
      },
      "source": [
        "plt.figure(figure=[8,5])\n",
        "plt.title('Model Fit')\n",
        "plt.xlabel('Time Step')\n",
        "plt.ylabel('Price')\n",
        "plt.plot(scaler.inverse_transform(testY), label='True')\n",
        "plt.plot(scaler.inverse_transform(predY), label='Prediction')\n",
        "plt.legend()"
      ],
      "execution_count": null,
      "outputs": []
    },
    {
      "cell_type": "code",
      "metadata": {
        "id": "EsFV9-zAYUtL"
      },
      "source": [
        "testScore = np.sqrt(mean_squared_error(scaler.inverse_transform(testY),scaler.inverse_transform(predY)))\n",
        "print('Test Score: %.2f RMSE' % (testScore))"
      ],
      "execution_count": null,
      "outputs": []
    },
    {
      "cell_type": "code",
      "metadata": {
        "id": "-oN6HXPXYUwM"
      },
      "source": [
        "print('RSquared :', '{:.2%}'.format(r2_score(testY,predY))"
      ],
      "execution_count": null,
      "outputs": []
    },
    {
      "cell_type": "markdown",
      "metadata": {
        "id": "lRXDLxx1aXYR"
      },
      "source": [
        "Hyperparameter Tuning"
      ]
    },
    {
      "cell_type": "code",
      "metadata": {
        "id": "j979kXEoaNHd"
      },
      "source": [
        "param_grid = {'C': [1e-2, 1e-1, 1e0, 1e1, 1e2, 1e3, 1e4],\n",
        "              'gamma': np.logspace(-2, 2, 50),\n",
        "              'epsilon': [0.1,0.2,0.5,0.3]}\n",
        "\n",
        "from sklearn.model_selection import RandomizedSearchCV"
      ],
      "execution_count": null,
      "outputs": []
    },
    {
      "cell_type": "code",
      "metadata": {
        "id": "TV267y_uaNKI"
      },
      "source": [
        "svm_model = SVR(kernel='linear')"
      ],
      "execution_count": null,
      "outputs": []
    },
    {
      "cell_type": "code",
      "metadata": {
        "id": "I_xqE3p_aNOa"
      },
      "source": [
        "grid_search = RandomizedSearchCV(svm_model,param_grid,scoring='r2',n_jobs=-1)\n",
        "\n",
        "grid_search.fit(trainX, trainY)\n",
        "\n",
        "print(grid_search.best_estimator_)"
      ],
      "execution_count": null,
      "outputs": []
    },
    {
      "cell_type": "code",
      "metadata": {
        "id": "a5gNbDSGaNQT"
      },
      "source": [
        "svm_model = SVR(C=10000.0, cache_size=200, coef0=0.0, degree=3, epsilon=0.1, gamma=100.0,\n",
        "                kernel='linear', max_iter=-1, shrinking=True, tol=0.001, verbose=False)\n",
        "\n",
        "svm_model.fit(trainX,trainY)\n",
        "\n",
        "pred = svm_model.predict(testX)"
      ],
      "execution_count": null,
      "outputs": []
    },
    {
      "cell_type": "code",
      "metadata": {
        "id": "wmXi16f-cmdc"
      },
      "source": [
        "testScore = np.sqrt(mean_squared_error(scaler.inverse_transform(testY),scaler.inverse_transform(pred)))\n",
        "print('Test Score: %.2f RMSE' % (testScore))"
      ],
      "execution_count": null,
      "outputs": []
    },
    {
      "cell_type": "code",
      "metadata": {
        "id": "wBDdgMeLc-Pp"
      },
      "source": [
        "print('RSquared :', '{:.2%}'.format(r2_score(testY,pred))"
      ],
      "execution_count": null,
      "outputs": []
    },
    {
      "cell_type": "code",
      "metadata": {
        "id": "LiRPMVhFcmf3"
      },
      "source": [
        "plt.figure(figure=[8,5])\n",
        "plt.title('Model Fit')\n",
        "plt.xlabel('Time Step')\n",
        "plt.ylabel('Price')\n",
        "plt.plot(scaler.inverse_transform(testY), label='True')\n",
        "plt.plot(scaler.inverse_transform(pred), label='Prediction')\n",
        "plt.legend()"
      ],
      "execution_count": null,
      "outputs": []
    },
    {
      "cell_type": "markdown",
      "metadata": {
        "id": "qjc2Cf3JdRVi"
      },
      "source": [
        "Ridge Regression"
      ]
    },
    {
      "cell_type": "code",
      "metadata": {
        "id": "w8969TKpcmkS"
      },
      "source": [
        "from sklearn.linear_model import RidgeCV"
      ],
      "execution_count": null,
      "outputs": []
    },
    {
      "cell_type": "code",
      "metadata": {
        "id": "8uf3TBeCdYlF"
      },
      "source": [
        "ridge = RidgeCV()"
      ],
      "execution_count": null,
      "outputs": []
    },
    {
      "cell_type": "code",
      "metadata": {
        "id": "fwDKNp4ldYn1"
      },
      "source": [
        "ridge.fit(trainX,trainY)\n",
        "\n",
        "Rpred = ridge.predict(testX)"
      ],
      "execution_count": null,
      "outputs": []
    },
    {
      "cell_type": "code",
      "metadata": {
        "id": "KnKoUcbtdYrq"
      },
      "source": [
        "testScore = np.sqrt(mean_squared_error(scaler.inverse_transform(testY),scaler.inverse_transform(Rpred)))\n",
        "print('Test Score: %.2f RMSE' % (testScore))"
      ],
      "execution_count": null,
      "outputs": []
    },
    {
      "cell_type": "code",
      "metadata": {
        "id": "HKLIF6RFdYuH"
      },
      "source": [
        "print('RSquared :', '{:.2%}'.format(r2_score(testY,Rpred))"
      ],
      "execution_count": null,
      "outputs": []
    },
    {
      "cell_type": "code",
      "metadata": {
        "id": "Nbe1Qwzmcml6"
      },
      "source": [
        "plt.figure(figure=[8,5])\n",
        "plt.title('Model Fit')\n",
        "plt.xlabel('Time Step')\n",
        "plt.ylabel('Price')\n",
        "plt.plot(scaler.inverse_transform(testY), label='True')\n",
        "plt.plot(scaler.inverse_transform(Rpred), label='Prediction')\n",
        "plt.legend()"
      ],
      "execution_count": null,
      "outputs": []
    },
    {
      "cell_type": "markdown",
      "metadata": {
        "id": "6J09kFb0d_JV"
      },
      "source": [
        "Hyperparameter Tuning"
      ]
    },
    {
      "cell_type": "code",
      "metadata": {
        "id": "-VyrLh1BcmpD"
      },
      "source": [
        "normal_price = np.array([float(candles[i][4]) for i in range(500)])"
      ],
      "execution_count": null,
      "outputs": []
    },
    {
      "cell_type": "code",
      "metadata": {
        "id": "-fXPI0ajeFUa"
      },
      "source": [
        "df = pd.DataFrame(price.reshape(100,5),columns=['First','Second','Third','Fourth','Target'])"
      ],
      "execution_count": null,
      "outputs": []
    },
    {
      "cell_type": "code",
      "metadata": {
        "id": "WKGOdZ_0eFXY"
      },
      "source": [
        "data.head()"
      ],
      "execution_count": null,
      "outputs": []
    },
    {
      "cell_type": "code",
      "metadata": {
        "id": "Rm4vTmToeFbp"
      },
      "source": [
        "data.tail()"
      ],
      "execution_count": null,
      "outputs": []
    },
    {
      "cell_type": "code",
      "metadata": {
        "id": "95Mjl3xPeFdc"
      },
      "source": [
        "#75% train, 25% test\n",
        "\n",
        "x_train_r = df.iloc[:74,:4]\n",
        "y_train_r = df.iloc[:74,-1]\n",
        "\n",
        "x_test_r = df.iloc[75:99,:4]\n",
        "y_test_r = df.iloc[75:99,-1]"
      ],
      "execution_count": null,
      "outputs": []
    },
    {
      "cell_type": "code",
      "metadata": {
        "id": "kcDWbmyBeFhW"
      },
      "source": [
        "from tpot import TPOTRegressor\n",
        "\n",
        "tpot = TPOTRegressor(generations=5,population_size=50, verbosity=2)\n",
        "tpot.fit(x_train_r, y_train_r)"
      ],
      "execution_count": null,
      "outputs": []
    },
    {
      "cell_type": "code",
      "metadata": {
        "id": "-eB1U5VfeFjT"
      },
      "source": [
        "tpred = tpot.predict(x_test_r)"
      ],
      "execution_count": null,
      "outputs": []
    },
    {
      "cell_type": "code",
      "metadata": {
        "id": "sUbDOnGzeFoV"
      },
      "source": [
        "testScore = np.sqrt(mean_squared_error(y_test_r, tpred))\n",
        "print('Test Score: %.2f RMSE' % (testScore))\n",
        "\n",
        "print('RSquared :', '{:.2%}'.format(r2_score(y_test_r, tpred))"
      ],
      "execution_count": null,
      "outputs": []
    },
    {
      "cell_type": "code",
      "metadata": {
        "id": "gfHVe-edeFqW"
      },
      "source": [
        "tpot.export('bitcoin.py')"
      ],
      "execution_count": null,
      "outputs": []
    },
    {
      "cell_type": "code",
      "metadata": {
        "id": "0cTQ19UqeFtT"
      },
      "source": [
        "plt.figure(figure=[8,5])\n",
        "plt.title('Model Fit')\n",
        "plt.xlabel('Time Step')\n",
        "plt.ylabel('Price')\n",
        "plt.plot(np.array(y_test_r).reshape(24,), label='True')\n",
        "plt.plot(tpred, label='Prediction')\n",
        "plt.legend()"
      ],
      "execution_count": null,
      "outputs": []
    },
    {
      "cell_type": "markdown",
      "metadata": {
        "id": "zj15ii9XgMYg"
      },
      "source": [
        "Trading bot"
      ]
    },
    {
      "cell_type": "code",
      "metadata": {
        "id": "rWxzmPl1eFvG"
      },
      "source": [
        "check = client.get_klines(symbol=symbol, interval=Client.KLINE_INTERVAL_1MINUTE)\n",
        "\n",
        "check(499)"
      ],
      "execution_count": null,
      "outputs": []
    },
    {
      "cell_type": "code",
      "metadata": {
        "id": "vIctExH6eF0N"
      },
      "source": [
        "index = [496,495,498,499]\n",
        "\n",
        "candles = scaler.transform(np.array([float(check[i][4]) for i in index]).reshape(1,-1))\n",
        "\n",
        "model_feed = candles.reshape(1,4,1)\n",
        "\n",
        "scaler.inverse_transform(model.predict(model_feed)[0])[0] #at 7:08 PM prediction today 6th April"
      ],
      "execution_count": null,
      "outputs": []
    },
    {
      "cell_type": "code",
      "metadata": {
        "id": "wHMPJv9_hOLz"
      },
      "source": [
        "#trading bot\n",
        "symbol = 'BTCUSDT' #symbol\n",
        "quantity = '0.05' #quantity to trade\n",
        "\n",
        "order = False\n",
        "index = [496,497,498,499]\n",
        "\n",
        "while True:\n",
        "  price = client.get_recent_trades(symbol = symbol)\n",
        "  candle = client.get_klines(symbol=symbol, interval=Client.KLINE_INTERVAL_1MINUTE)\n",
        "  candles = scaler.transform(np.array([float(candle[i][4] for i in index]).reshape(1,-1))\n",
        "  model_feed = candles.reshape(1,4,1)\n",
        "\n",
        "  if order == False and float(price[len(price)-1]['price']) < float(scaler.inverse_transform(model.predict(model_feed)[0])[0]):\n",
        "    \n",
        "    #client.order_market_buy(symbol = symbol, quantity = quantity)\n",
        "    order = True\n",
        "    buy_price = client.get_order_book(symbol = symbol)['asks'][0][0]\\\n",
        "    print('Buy @Market Price :', float(buy_price), ' Timestamp :', str(datetime.now()))\n",
        "  \n",
        "  elif order == True and float(price[len(price)-1]['price'])-float(buy_price) >= 10:\n",
        "    \n",
        "    #client.order_market_sell(symbol = symbol, quantity = quantity)                       #fires sell order to exchange if condition\n",
        "    order=False                                                                           #sets order = False and closes open position \n",
        "    sell_price = client.get_order_book(symbol=symbol)['bids'][0][0]                       #gets the highest bid for the market order\n",
        "    print('Sell @Market Price :', float(sell_price),' Timestamp :',str(datetime.now()))   #print sell price and datetime\n",
        "  \n",
        "  else:\n",
        "    pass"
      ],
      "execution_count": null,
      "outputs": []
    }
  ]
}